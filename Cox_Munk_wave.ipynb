{
 "cells": [
  {
   "cell_type": "markdown",
   "metadata": {},
   "source": [
    "# Cox & Munk\n",
    "## Statistical distribution of the random sea surface slopes\n",
    "\n",
    "Statistical distribution of the random sea surface slopes (a bivariate Gaussian). Cox-Munk statistics include capillary waves and gravity waves.\n",
    "\n",
    "$$ p(\\eta_a,\\eta_c) = \\frac{1}{2\\pi \\sigma_a \\sigma_c}\\exp[-\\frac{1}{2}(\\frac{\\eta_a^2}{\\sigma^2_a} + \\frac{\\eta^2_c}{\\sigma^2_c})]$$\n",
    "\n",
    "where $\\eta$ is the wave e;evation, distributed normally with zero mean and variance\n",
    "\n",
    "$\\eta_a = \\frac{\\delta \\eta}{\\delta x_a}, \\eta_c = \\frac{\\delta \\eta}{\\delta x_c}$. It is known from experiment that the capillary wave slopes $\\eta_a$ and $\\eta_c$ vary in a random manner, being independently and normally distributed with zero mean and variances\n",
    "\n",
    "$\\sigma^2_a = a_a U,$ where $a_u = 3.16\\times 10^{-3} s/m$\n",
    "\n",
    "$\\sigma^2_c = a_c U$, where $a_c = 1.92\\times 10^{-3} s/m$\n",
    "\n",
    "$p(\\eta_a,\\eta_c)$ is normalised such that the area under it is 1\n",
    "\n",
    "These slope variances were found to be related to the wind speed $U$ which is the wind speed (in m/s) measured at an anemometer height of 12.5 m above mean sea level\n",
    "\n",
    "$$\\sigma^2_a = 0.000 + 3.16 \\cdot 10^{-3}U \\pm 0.004$$\n",
    "\n",
    "$$\\sigma^2_c = 0.003 + 1.92 \\cdot 10^{-3}U \\pm 0.002$$\n",
    "\n",
    "$$\\sigma^2 = \\sigma^2_a + \\sigma^2_c = 0.003 + 5.12 \\cdot 10^{-3}U \\pm 0.004$$"
   ]
  },
  {
   "cell_type": "markdown",
   "metadata": {},
   "source": []
  }
 ],
 "metadata": {
  "kernelspec": {
   "display_name": "Python 3.6.13 ('image_segmentation')",
   "language": "python",
   "name": "python3"
  },
  "language_info": {
   "name": "python",
   "version": "3.6.13"
  },
  "orig_nbformat": 4,
  "vscode": {
   "interpreter": {
    "hash": "80f05ac7d48d379ae158f3ab9dbbd184b4a9775e1ff1abc29985f2e51586f566"
   }
  }
 },
 "nbformat": 4,
 "nbformat_minor": 2
}
