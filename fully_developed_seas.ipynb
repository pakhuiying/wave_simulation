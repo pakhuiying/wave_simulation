{
 "cells": [
  {
   "cell_type": "code",
   "execution_count": 1,
   "metadata": {},
   "outputs": [],
   "source": [
    "import numpy as np\n",
    "import matplotlib.pyplot as plt\n",
    "import matplotlib as mpl"
   ]
  },
  {
   "cell_type": "markdown",
   "metadata": {},
   "source": [
    "The optical description of the sea state by the capillary wave statistics is a good approximation to nature particularly for seas freshly activated by winds. However it is to be expected that the optical properties of a fully developed sea, over which for long times and extensive fetches the wind has been active, may be affected by the presence of the resultance gravity waves. In particular, at low solar altitudes the effects of wave shielding may become important, since the incoming rays will tend to strike the frontsides of the large gravity waves while the backsides remain in shadow\n",
    "\n",
    "A simple hybrid wave model is possible that will combine capillary and gravity waves. We first construct the gravity wave swells over a rectangular grid using the air-water surface representations - this defines a set of gravity wave facets. The capillary hexagonal grid is then fitted to each gravity wave facet. Shielding by the gravity waves can be thought of  a change in the incoming ray direction relative to the capillary waves riding on the gravity wave facet. Thus when a ray strikes a gravity wave facet which is tilted toward the sun, the capillary waves on that facet see the sun as being \"higher\" in the sky relative to the plane of their gravity wave facet. \n",
    "\n",
    "![rectangular grid](images/rectangular_grid.png)\n",
    "The rectangular, spatial-domain coordinate system used to construct a random air-water surface of triangular gravity-wave facets. The facet triads are shown by dashed lines\n",
    "\n",
    "e.g. spatial region is $X \\times Y = 25 \\times 25 m$, which is resolved by $N_x \\times N_y = 2048 \\times 1024$ grid points. The smallest resolved wavelength in the x-direction is then $2 \\times 25/2048 = 0.024 m$, and twice that in the crosswind diection. Thus this particular surface resolves all wavelengths from 25 m gravity waves almost down to capillary waves, which have wavelengths of order 1 cm.\n"
   ]
  },
  {
   "cell_type": "markdown",
   "metadata": {},
   "source": [
    "The $\\omega$ th realization of a spatially stationary, zero-mean random surface over this grid is defined by a surface elevation function $\\eta$ whose value at node ($i,j$) is:\n",
    "\n",
    "$$\\eta (i;j;\\omega) = \\sum_{(u,v) \\in W} \\left[b_{uv}(\\omega) \\cos 2 \\pi \\left(\\frac{ui}{p} + \\frac{vj}{q} \\right) + c_{uv} \\sin 2 \\pi \\left(\\frac{ui}{p} + \\frac{vj}{q} \\right) \\right]$$\n",
    "\n",
    "Here $W$ is the set of $(u,v)$ values such that $u = 0$ and $1 \\leq v \\leq m$, or $1 \\leq u \\leq l$ and $-m \\leq v \\leq m$; $p=2l + 1$ and $q = 2m + 1$\n",
    "\n",
    "The quantities $b_{uv}$ and $c_{uv}$ are independent, normally distributed random variables of zero mean and variances:\n",
    "\n",
    "$\\Epsilon \\{ b_{uv}^2\\} = \\Epsilon \\{ c_{uv}^2\\} = E(k_u,k_v)\\Delta u \\Delta v$,\n",
    "\n",
    "where $\\Delta u = \\frac{2 \\pi}{p \\Delta x}, \\quad \\Delta v = \\frac{2 \\pi}{q \\Delta y}$\n",
    "\n",
    "$k_u = u\\Delta u, \\quad k_v = v \\Delta v$\n",
    "\n",
    "The quantity $E(k_u,k_v)$ is the directional energy spectrum of the waves in rectangular coordinate form. $E(k_u,k_v)$ has the symmetry $E(-k_u,-k_v) = E(k_u,k_v)$ so that $W$ covers all wave trains moving generally downwind"
   ]
  },
  {
   "cell_type": "markdown",
   "metadata": {},
   "source": [
    "$$E(k_u, k_v) = F(\\sigma_{uv}, \\phi_{uv}) \\frac{g^2}{2 \\sigma_{uv}^3} \\quad (m^4)$$\n",
    "\n",
    "where\n",
    "\n",
    "$\\sigma_{uv} = (g k_{uv}^{1/2}) \\quad (s^{-1})$\n",
    "\n",
    "$\\phi_{uv} = \\tan^{-1} (\\frac{k_v}{k_u})$\n",
    "\n",
    "$k_{uv} = (k_u^2 + k_v^2)^{1/2} \\quad (m^{-1})$\n",
    "\n",
    "$F(\\sigma_{uv}, \\phi_{uv}) = C \\sigma_{uv}^{-6} \\exp \\left[ -2 \\left( \\frac{g}{\\sigma_{uv} U} \\right)^2 \\right] f(\\sigma_{uv}, \\phi_{uv}) \\quad (m^2 s)$\n",
    "\n",
    "$f(\\sigma_{uv}, \\phi_{uv}) = 1 + (0.50 + 0.82 \\xi) \\cos (2 \\phi_{uv}) + 0.32 \\xi \\cos (2 \\phi_{uv})$\n",
    "\n",
    "$\\xi = \\exp \\left[ -\\frac{1}{2} \\left(\\frac{\\sigma_{uv} U}{g} \\right)^4 \\right]$\n",
    "\n",
    "$C = 0.763 \\quad m^2 s^{-5}$ and $g = 9.80 \\quad m s^{-2}$\n",
    "\n",
    "Here $\\sigma_{uv}$ is temporal wave frequency,\n",
    "\n",
    "$k_{uv}$ is spatial wave number of the deep water gravity waves, and $g$ is gravity's acceleration"
   ]
  },
  {
   "cell_type": "markdown",
   "metadata": {},
   "source": [
    "This formidable set of equations is used as follows. \n",
    "\n",
    "Select the wind speed $U$ (m/s). This fixes the frequency of the highest spectral energy density of waves represented by the spectrum: $\\sigma_{max} = (\\frac{2}{3})^{1/2} \\frac{g}{U}$\n",
    "\n",
    "By $\\sigma^2 = gk$ and $\\lambda = 2 \\pi/k$, the value of $\\sigma_{max}$ also determines the associated wavelength of the waves of maximum energy density $\\lambda_{max} = \\frac{3 \\pi U^2}{g}$\n",
    "\n",
    "This wavelength can be used to set the physical scale of the hexagonal grid. e.g. $X = Y = 4 \\lambda_{max}$ would give a hexagonal domain capable of resolving four wavelengths of the maximum-energy waves. Each of the maximum-energy waves is resolved according the choice of $l$ and $m$: e.g. $l = m = 24$, gives $\\Delta x = \\Delta y = \\lambda_{max}/24$. Note that the choice of $\\delta = 1$ no longer holds. Once the grid resolution has been fixed, $E{k_u,k_v}$ is determined and evaluated for each pair of integers $(u,v)$ in $W$. This calculation is performed only once.\n",
    "\n",
    "Finally, to construct the $\\omega$ th realization of a random surface, for each $(u,v) \\in W$, we randomly draw (for the $\\omega$ th time) independent samples $b_{uv}(\\omega)$ and $c_{uv}(\\omega)$ from a normal distribution of zero mean and variance $E(k_u,k_v) \\Delta u \\Delta v$. Then we obtain $\\eta$ from the above equations.\n",
    "\n",
    "Note that the vertices of the wave triads, used to define the triangular wave facets, coincide with every other $(i,j)$ point of the rectangular grid used to define $E (k_u,k_v)$. Thus, $\\eta$ need to be evaluated only at those ($i,j$) nodes coinciding with a triad vertex.\n",
    "\n",
    "![spectral domain coord](images/spectral_domain_coord.png)\n",
    "\n",
    "The spectral-domain $(u,v)$ coordinate system corresponding to the spatial domain. $W$ is the set of $(u,v)$ values shown by circles"
   ]
  },
  {
   "cell_type": "code",
   "execution_count": 47,
   "metadata": {},
   "outputs": [
    {
     "name": "stdout",
     "output_type": "stream",
     "text": [
      "0.0888888888888889\n",
      "0.0888888888888889\n"
     ]
    }
   ],
   "source": [
    "# maximum wavelength of waves of maximm energy density\n",
    "U = 6\n",
    "g = 9.8\n",
    "\n",
    "lambda_max = 3*np.pi*U**2/g\n",
    "\n",
    "# Hexagonal domain capable of resolving 4 wavelengths of the maximum-energy waves\n",
    "X = Y = 4*lambda_max\n",
    "l = m = 24 #increase this parameter if you want higher resolution\n",
    "delta_x = delta_y = lambda_max/l\n",
    "\n",
    "p = 2*l+1 #number of grids incl 0\n",
    "q = 2*m + 1 #number of grids incl 0\n",
    "\n",
    "delta_u = 2*np.pi/(p*delta_x)\n",
    "delta_v = 2*np.pi/(q*delta_y)\n",
    "\n",
    "print(delta_u)\n",
    "print(delta_v)\n",
    "# k_u = lambda u: u*delta_u\n",
    "# k_v = lambda v: v*delta_v\n",
    "\n",
    "C = 0.763"
   ]
  },
  {
   "cell_type": "code",
   "execution_count": 58,
   "metadata": {},
   "outputs": [
    {
     "name": "stderr",
     "output_type": "stream",
     "text": [
      "c:\\Users\\xinmatrix\\anaconda3\\envs\\image_segmentation\\lib\\site-packages\\ipykernel_launcher.py:17: RuntimeWarning: divide by zero encountered in true_divide\n",
      "c:\\Users\\xinmatrix\\anaconda3\\envs\\image_segmentation\\lib\\site-packages\\ipykernel_launcher.py:17: RuntimeWarning: invalid value encountered in true_divide\n"
     ]
    },
    {
     "data": {
      "text/plain": [
       "array([        nan,  1.57079633,  1.57079633, ..., -0.82884906,\n",
       "       -0.80667155, -0.78539816])"
      ]
     },
     "execution_count": 58,
     "metadata": {},
     "output_type": "execute_result"
    }
   ],
   "source": [
    "v = np.linspace(0, m, m+1,dtype=int)\n",
    "u = np.repeat(0,m+1)\n",
    "\n",
    "v1 = np.linspace(m,-m,q,dtype=int)\n",
    "u1 = np.linspace(1,l,l,dtype=int)\n",
    "U1,V1 = np.meshgrid(u1,v1)\n",
    "\n",
    "v = np.concatenate((v,V1.flatten()))\n",
    "u = np.concatenate((u,U1.flatten()))\n",
    "\n",
    "k_u = u*delta_u\n",
    "k_v = v*delta_v\n",
    "k_uv = np.sqrt(k_u**2 + k_v**2)\n",
    "\n",
    "sigma_uv = (g*k_uv)**0.5\n",
    "\n",
    "phi_uv = np.arctan(k_v/k_u)\n",
    "\n",
    "phi_uv"
   ]
  },
  {
   "cell_type": "code",
   "execution_count": 59,
   "metadata": {},
   "outputs": [
    {
     "name": "stderr",
     "output_type": "stream",
     "text": [
      "c:\\Users\\xinmatrix\\anaconda3\\envs\\image_segmentation\\lib\\site-packages\\ipykernel_launcher.py:3: RuntimeWarning: divide by zero encountered in power\n",
      "  This is separate from the ipykernel package so we can avoid doing imports until\n",
      "c:\\Users\\xinmatrix\\anaconda3\\envs\\image_segmentation\\lib\\site-packages\\ipykernel_launcher.py:3: RuntimeWarning: divide by zero encountered in true_divide\n",
      "  This is separate from the ipykernel package so we can avoid doing imports until\n",
      "c:\\Users\\xinmatrix\\anaconda3\\envs\\image_segmentation\\lib\\site-packages\\ipykernel_launcher.py:3: RuntimeWarning: invalid value encountered in multiply\n",
      "  This is separate from the ipykernel package so we can avoid doing imports until\n"
     ]
    },
    {
     "data": {
      "text/plain": [
       "array([           nan, 3.87101524e-03, 1.35306538e-02, ...,\n",
       "       8.42765400e-06, 7.88302401e-06, 7.36164791e-06])"
      ]
     },
     "execution_count": 59,
     "metadata": {},
     "output_type": "execute_result"
    }
   ],
   "source": [
    "xi = np.exp(-0.5*(sigma_uv*U/g)**4)\n",
    "f = 1+(0.50 + 0.82*xi)*np.cos(2*phi_uv) + 0.32*xi*np.cos(4*phi_uv)\n",
    "F = C*(sigma_uv**-6)*np.exp(-2*(g/(sigma_uv*U))**2)*f \n",
    "E = F*g**2/(2*sigma_uv**3)\n",
    "E"
   ]
  },
  {
   "cell_type": "markdown",
   "metadata": {},
   "source": [
    "# Using FFT"
   ]
  },
  {
   "cell_type": "markdown",
   "metadata": {},
   "source": [
    "Suppose that we have measured the sea surface elevation $\\eta (x_r,y_s) = \\eta (r,s) $ at a given time and over a rectangular grid of spatial points $(x_r,y_s)$, $r = 1,..., N_x$, $s = 1,...,N_y$. This grid covers an area of some physical size $X \\times Y$, e.g. $0 \\leq x \\leq X$, $0 \\leq y \\leq Y$, with a grid spacing of $\\Delta x = X/N_x$ and $\\Delta y = Y/N_y$. The longest wavelengths resolvable by this grid are $X$ and $Y$ in the respective directions, and the smallest waves are of wavelength $2 \\Delta x = 2X/N_x$ and $2 \\Delta y = 2Y/N_y$\n",
    "\n",
    "Linear wave theory says that this surface can be represented as a sum of sinusoids:\n",
    "\n",
    "$$\\eta (x_r,y_s) = \\frac{a_0}{2} + \\sum_{u=1}^{N_x/2} \\sum_{v=1}^{N_y/2} [a_{u,v} \\cos (k_u x_r + k_v y_s) + b_{u,v} \\sin (k_u x_r + k_v y_s)]$$\n",
    "\n",
    "($a_0$ represents mean sea level and can be set to 0)\n",
    "\n",
    "where the $a_{u,v}$ and $b_{u,v}$ are the amplitudes of the waves with spatial frequencies $k_u = 2 \\pi u/X$ and $k_v = 2 \\pi v/Y$; $k_u$ and $k_v$ have units of radian per meter. This decomposition can be placed in the form of a discrete Fourier transform pair:\n",
    "\n",
    "$$ \\eta (r,s) = \\sum_{u=0}^{N_x-1} \\sum_{v=0}^{N_y-1} \\eta (u,v) \\exp [i 2 \\pi (ru/N_x + sv/N_y)] \\quad (1)$$\n",
    "\n",
    "$$ \\eta (u,v) = \\frac{1}{N_x N_y} \\sum_{r=0}^{N_x-1} \\sum_{v=0}^{N_y-1} \\eta (r,s) \\exp [-i 2 \\pi (ru/N_x + sv/N_y)] \\quad (2)$$\n",
    "\n",
    "(2) is called the DFT, and (1) is the inverse DFT. If $N_x,N_y$ are both powers of 2, then FFT can be used. Note that although $\\eta (r,s)$ is real, $\\hat{\\eta} (u,v)$ is in general a complex number. However, $\\hat{\\eta} (u,v)$ is Hermitian, which means that $\\hat{\\eta}^* (u,v) = \\hat{\\eta} (-u,-v)$, where * represents the complex conjugate\n",
    "\n",
    "The energy of a wave is proportional to the square of its amplitude. Thus the square of $\\hat{\\eta}(u,v)$ is proportional to the energy contained in waves with frequencies of $k_u, k_v$ in the respective $x,y$ directions. The quantity $E(k_u,k_v) = \\parallel \\hat{\\eta}(u,v) \\parallel ^2 = \\hat{\\eta} (u,v) \\hat{\\eta}^* (u,v)$ is therefore known as the wave energy spectrum"
   ]
  },
  {
   "cell_type": "markdown",
   "metadata": {},
   "source": [
    "To use a given energy spectrum $E(k_u, k_v)$ to generate a random surface realisation $\\eta (r,s)$, we first choose the $X,Y$ and $N_x, N_y$ values which will determine the physical size of the spatial region and the fineness of the wave resolution. This gives an x-y grid of points at which $\\eta (r,s)$ is to be determined. Then for each $(u,v)$ combination, draw independent random numbers $\\rho_1(u,v)$ and $\\rho_2 (u,v)$ from a $N(0,1)$ distribution, and form the quantity\n",
    "\n",
    "$$\\hat{\\eta}_o (u,v) = \\frac{1}{\\sqrt{2}}[\\rho_1 (u,v) + i \\rho_2 (u,v)] \\sqrt{\\frac{E(k_u,k_v)}{2}}$$\n",
    "\n",
    "However, since $\\hat{\\eta}_o (u,v)$ is not Hermitian. However, the quantity\n",
    "\n",
    "$$\\hat{\\eta} (u,v) = \\frac{1}{2} [\\hat{\\eta}_o (u,v) + \\hat{\\eta}_o^* (u,v)]$$\n",
    "\n",
    "is Hermitian, and thus gives a sea surface realisation that is real and consistent with the chosen wave energy spectrum"
   ]
  },
  {
   "cell_type": "code",
   "execution_count": null,
   "metadata": {},
   "outputs": [],
   "source": [
    "N_x = 64\n",
    "N_y = 64\n"
   ]
  }
 ],
 "metadata": {
  "kernelspec": {
   "display_name": "Python 3.6.13 ('image_segmentation')",
   "language": "python",
   "name": "python3"
  },
  "language_info": {
   "codemirror_mode": {
    "name": "ipython",
    "version": 3
   },
   "file_extension": ".py",
   "mimetype": "text/x-python",
   "name": "python",
   "nbconvert_exporter": "python",
   "pygments_lexer": "ipython3",
   "version": "3.6.13"
  },
  "orig_nbformat": 4,
  "vscode": {
   "interpreter": {
    "hash": "80f05ac7d48d379ae158f3ab9dbbd184b4a9775e1ff1abc29985f2e51586f566"
   }
  }
 },
 "nbformat": 4,
 "nbformat_minor": 2
}
