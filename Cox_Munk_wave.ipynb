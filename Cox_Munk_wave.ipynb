{
 "cells": [
  {
   "cell_type": "markdown",
   "metadata": {},
   "source": [
    "# Cox & Munk\n",
    "## Statistical distribution of the random sea surface slopes\n",
    "\n",
    "Statistical distribution of the random sea surface slopes (a bivariate Gaussian). Cox-Munk statistics include capillary waves and gravity waves.\n",
    "\n",
    "$$ p(\\eta_a,\\eta_c) = \\frac{1}{2\\pi \\sigma_a \\sigma_c}\\exp[-\\frac{1}{2}(\\frac{\\eta_a^2}{\\sigma^2_a} + \\frac{\\eta^2_c}{\\sigma^2_c})]$$\n",
    "\n",
    "$p(\\eta_a,\\eta_c)$ is normalised such that the area under it is 1\n",
    "\n",
    "where $\\eta$ is the wave elevation, distributed normally with zero mean and variance, $\\eta_a$ and $\\eta_c$ are the along-wind (upwind) and crosswind slopes of the water surface respectively. \n",
    "$\\eta_a = \\frac{\\delta \\eta}{\\delta x_a}, \\eta_c = \\frac{\\delta \\eta}{\\delta x_c}$. \n",
    "It is known from experiment that the capillary wave slopes $\\eta_a$ and $\\eta_c$ vary in a random manner, being independently and normally distributed with zero mean and variances.\n",
    "\n",
    "## Wave-slope wind-speed law\n",
    "\n",
    "### Cox-Munk Capillary wave slope equations\n",
    "\n",
    "- It should be emphasized that they also represent the *slopes* of a gravity-capillary wave surface. Most of the variance in the slope of the sea surface is due to the shortest wavelength of capillary waves. \n",
    "- Most of the variance in the *amplitude* of the surface waves id due to the longest gravity waves.\n",
    "- For optics, it is the *slope* of the surface that is the most important because the slope determines the angles entering the Fresnel reflectance equations for an incident ray.\n",
    "- The amplitude of the waves determines the amount of wave \"shadowing\" at low solar elevations and influences multiple scattering between gravity waves, but the effects are insignificant unless viewing from near-horizon sun positions\n",
    "\n",
    "$\\sigma^2_a = a_a U,$ where $a_u = 3.16\\times 10^{-3} s/m$\n",
    "\n",
    "$\\sigma^2_c = a_c U$, where $a_c = 1.92\\times 10^{-3} s/m$\n",
    "\n",
    "\n",
    "\n",
    "These slope variances were found to be related to the wind speed $U$ which is the wind speed (in m/s) measured at an anemometer height of 12.5 m above mean sea level\n",
    "\n",
    "$$\\sigma^2_a = 0.000 + 3.16 \\cdot 10^{-3}U \\pm 0.004$$\n",
    "\n",
    "$$\\sigma^2_c = 0.003 + 1.92 \\cdot 10^{-3}U \\pm 0.002$$\n",
    "\n",
    "$$\\sigma^2 = \\sigma^2_a + \\sigma^2_c = 0.003 + 5.12 \\cdot 10^{-3}U \\pm 0.004$$"
   ]
  },
  {
   "cell_type": "markdown",
   "metadata": {},
   "source": [
    "# Modelling capillary waves\n",
    "\n",
    "We need to construct a large number of random capillary-wave surfaces\n",
    "\n",
    "1. Partition a horizontal plane into a hexagonal grid of congruent isosceles triangle (aka triads), where $\\delta$ and $\\in$ are the base and same-length sides of an isosceles triangle\n",
    "2. $\\delta$-dimension is aligned along the wind direction\n",
    "3. Vertices of the triad are labelled $v_1, v_2, v_3$\n",
    "4. Randomly draw 3 values ($\\eta_1, \\eta_2, \\eta_3$) from $~N(0,\\sigma^2)$ (Note that $\\eta$ can be < 0, positive $\\eta$ corresponds to points below mean sea level since depth is defined as positive)\n",
    "5. Draw 3 vertical lines (parallel to $\\hat{i_3}$) through the respective vertices with the heights $\\eta_1, \\eta_2, \\eta_3$\n",
    "6. The 3 points connect to form a facet of the surface, and repeat for all surfaces (Note that only the first facet requires us to draw 3 values, since 2 other values are always defined already, only value needs to be drawn for other facets.). The facets represent individual capillary wave facets\n",
    "\n",
    "The upwind and crosswind slopes of a facet is defined as:\n",
    "\n",
    "$\\eta_a = \\frac{\\eta_1 - \\eta_2}{\\delta}$ and $\\eta_c = \\frac{\\eta_3 - 0.5(\\eta_1 + \\eta_2)}{\\in}$\n",
    "\n",
    "$\\eta_a$ and $\\eta_c$ are independent of each other, and thus uncorrelated\n",
    "\n",
    "Elevation of a wave facet is defined as $\\eta = \\frac{\\eta_1 + \\eta_2 + \\eta_3}{3}$, average height of the facet's centroid above or below the plane of the hexagonal grid\n",
    "\n",
    "## Defining scales\n",
    "\n",
    "- Fix the horizontal sizes $\\delta$ and $\\in$ and the vertical scale $\\sigma$ of the random wave facets as a function of the wind speed $U$\n",
    "$$\\sigma^2_a = \\frac{2\\sigma^2}{\\delta^2} = a_a U$$\n",
    "\n",
    "$$\\sigma^2_c = \\frac{3\\sigma^2}{2\\in^2} = a_c U$$\n",
    "\n",
    "Since $U$ is the same,\n",
    "\n",
    "$$ \\frac{\\in^2}{\\delta^2} = \\frac{3 a_a}{4 a_c}$$\n",
    "\n",
    "- The *shape* of the triad is thus independent of the wind speed and of the physical units of $\\delta$ and $\\in$, as proven mathematically. Thus, only the vertical scale of the capillary surface changes with the wind speed. \n",
    "- Since only the slope and orientation of the facet matters for ray-tracing, $\\delta$ can be defined as 1. We can then fix $\\in$ and $\\sigma$\n"
   ]
  },
  {
   "cell_type": "markdown",
   "metadata": {},
   "source": []
  }
 ],
 "metadata": {
  "kernelspec": {
   "display_name": "Python 3.6.13 ('image_segmentation')",
   "language": "python",
   "name": "python3"
  },
  "language_info": {
   "name": "python",
   "version": "3.6.13"
  },
  "orig_nbformat": 4,
  "vscode": {
   "interpreter": {
    "hash": "80f05ac7d48d379ae158f3ab9dbbd184b4a9775e1ff1abc29985f2e51586f566"
   }
  }
 },
 "nbformat": 4,
 "nbformat_minor": 2
}
